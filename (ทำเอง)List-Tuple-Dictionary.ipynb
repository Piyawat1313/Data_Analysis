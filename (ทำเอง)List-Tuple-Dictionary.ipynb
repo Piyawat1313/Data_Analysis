{
 "cells": [
  {
   "cell_type": "markdown",
   "id": "922dd82d",
   "metadata": {},
   "source": [
    "# 670710136 นายปิยวัฒน์  เดียนประไพ (Heading)"
   ]
  },
  {
   "cell_type": "markdown",
   "id": "2c1b49f2",
   "metadata": {},
   "source": [
    "ในการทำแบบฝึกหัดให้เพิ่ม cell ด้านล่างของโจทย์เพื่อเขียน code"
   ]
  },
  {
   "cell_type": "code",
   "execution_count": 1,
   "id": "6211cff6-39ee-4cd5-8d33-8d5ab2263062",
   "metadata": {},
   "outputs": [
    {
     "name": "stdout",
     "output_type": "stream",
     "text": [
      "['Database', 'Data Mining', 'Machine Learning', 'Database', 'Calculus', 'Linear Algebra']\n"
     ]
    }
   ],
   "source": [
    "# 1. สร้าง list เพื่อเก็บชื่อวิชาและพิมพ์ออกมา\n",
    " \n",
    "my_list = [\"Database\", \"Data Mining\", \"Machine Learning\", \"Database\", \"Calculus\", \"Linear Algebra\"]\n",
    "\n"
   ]
  },
  {
   "cell_type": "code",
   "execution_count": 3,
   "id": "66ac2784",
   "metadata": {},
   "outputs": [
    {
     "name": "stdout",
     "output_type": "stream",
     "text": [
      "['Database', 'Data Mining', 'Machine Learning', 'Database', 'Calculus', 'Linear Algebra', 1, 2, 3, 4, 5]\n"
     ]
    }
   ],
   "source": [
    "#2.พิมพ์จำนวนสมาชิกของ List สร้างในข้อ 1.\n",
    "\n",
    "print(my_list)"
   ]
  },
  {
   "cell_type": "code",
   "execution_count": 7,
   "id": "5fab2be9",
   "metadata": {},
   "outputs": [
    {
     "name": "stdout",
     "output_type": "stream",
     "text": [
      "['Database', 'Data Mining', 'Machine Learning', 'Database', 'Calculus', 'Linear Algebra', 'Deep Learning']\n"
     ]
    }
   ],
   "source": [
    "#3.เพิ่มข้อมูล \"Deep Leaerning\" ต่อจาก index(ตำแหน่ง) สุดท้ายเก็บไว้ใน List ที่สร้าง\n",
    "print(my_list + ['Deep Learning'])"
   ]
  },
  {
   "cell_type": "code",
   "execution_count": 11,
   "id": "67e272d8",
   "metadata": {},
   "outputs": [
    {
     "name": "stdout",
     "output_type": "stream",
     "text": [
      "['Machine Learning', 'Database']\n"
     ]
    }
   ],
   "source": [
    "#4.แสดงข้อมูล Machine Learning และ Database ใน list \n",
    "print(my_list[2:4])"
   ]
  },
  {
   "cell_type": "code",
   "execution_count": null,
   "id": "745876f2",
   "metadata": {},
   "outputs": [],
   "source": [
    "#5. สร้าง tuple จากรายชื่อผลไม้ \"Orange\", \"Apple\", \"Grape\", \"Melon\"\n",
    "my_tuple(\"Orange\", \"Apple\", \"Grape\", \"Melon\")"
   ]
  },
  {
   "cell_type": "code",
   "execution_count": null,
   "id": "35a69c0c-1405-4e58-9262-ea77cea5de12",
   "metadata": {},
   "outputs": [],
   "source": [
    "#6. เพิ่ม Cherry  เข้าไปใน tuple ที่สร้าง\n",
    "newMy_tuple = my_tuple + (\"Cherry\")"
   ]
  },
  {
   "cell_type": "code",
   "execution_count": 18,
   "id": "aedce51c",
   "metadata": {},
   "outputs": [
    {
     "name": "stdout",
     "output_type": "stream",
     "text": [
      "{'cherry': 'red', 'price1': '1.99', 'lemon': 'yellow', 'price2': '0.79', 'lime': 'green', 'price3': '0.69'}\n"
     ]
    }
   ],
   "source": [
    "#7. สร้าง Dictionaries ชื่อ fruit จากข้อมูลด้านล่างด้วยรูปแบบ key,value กำหนดให้\n",
    "# cherry => red , price 1.99\n",
    "# lemon => yellow, price 0.79)\n",
    "# lime => green , price  0.69)\n",
    "fruit = {'cherry':'red', 'price1':'1.99', 'lemon': 'yellow', 'price2': '0.79', 'lime': 'green', 'price3':'0.69'}\n",
    "print(fruit)"
   ]
  },
  {
   "cell_type": "code",
   "execution_count": 22,
   "id": "743122f4",
   "metadata": {
    "scrolled": true
   },
   "outputs": [
    {
     "name": "stdout",
     "output_type": "stream",
     "text": [
      "cherry red\n",
      "price1 1.99\n",
      "lemon yellow\n",
      "price2 0.79\n",
      "lime green\n",
      "price3 0.69\n"
     ]
    }
   ],
   "source": [
    "#8. พิมพ์ค่า key และ value ทั้งหมดใน Dictionaries ที่สร้าง\n",
    "for k,v in fruit.items():\n",
    "    print(k,v)"
   ]
  },
  {
   "cell_type": "code",
   "execution_count": 24,
   "id": "559be6bc",
   "metadata": {},
   "outputs": [
    {
     "name": "stdout",
     "output_type": "stream",
     "text": [
      "cherry pink\n",
      "price1 2.5\n",
      "lemon yellow\n",
      "price2 0.79\n",
      "lime green\n",
      "price3 0.69\n",
      "0 pink\n"
     ]
    }
   ],
   "source": [
    "#9. จาก dictionary ในข้อ 8 เปลี่ยน cherry => pink และ price => 2.50 พร้อมทั้งแสดงผล\n",
    "fruit.update({'cherry':'pink', 'price1': 2.50})\n",
    "for k,v in fruit.items():\n",
    "    print(k,v)"
   ]
  },
  {
   "cell_type": "code",
   "execution_count": 38,
   "id": "9babf27a",
   "metadata": {},
   "outputs": [
    {
     "name": "stdout",
     "output_type": "stream",
     "text": [
      "{'cherry': 'red', 'price1': '1.99', 'lemon': 'yellow', 'price2': '0.79'}\n"
     ]
    }
   ],
   "source": [
    "#10. เอา lime ออกจาก dictionary และแสดงผลสมาชิกใน dictionary ที่เหลือ\n",
    "fruit = {'cherry':'red', 'price1':'1.99', 'lemon': 'yellow', 'price2': '0.79', 'lime': 'green', 'price3':'0.69'}\n",
    "fruit.pop('lime')\n",
    "fruit.pop('price3')\n",
    "print(fruit)"
   ]
  },
  {
   "cell_type": "code",
   "execution_count": null,
   "id": "3a6e2a5c-b758-49b9-a00f-e4f800a71396",
   "metadata": {},
   "outputs": [],
   "source": []
  }
 ],
 "metadata": {
  "kernelspec": {
   "display_name": "Python 3 (ipykernel)",
   "language": "python",
   "name": "python3"
  },
  "language_info": {
   "codemirror_mode": {
    "name": "ipython",
    "version": 3
   },
   "file_extension": ".py",
   "mimetype": "text/x-python",
   "name": "python",
   "nbconvert_exporter": "python",
   "pygments_lexer": "ipython3",
   "version": "3.12.7"
  }
 },
 "nbformat": 4,
 "nbformat_minor": 5
}
