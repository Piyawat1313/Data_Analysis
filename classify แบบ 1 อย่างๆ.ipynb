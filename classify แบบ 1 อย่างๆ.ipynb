{
 "cells": [
  {
   "cell_type": "code",
   "execution_count": 1,
   "id": "7be50ce0-3518-4825-924e-73074c054468",
   "metadata": {},
   "outputs": [
    {
     "name": "stdout",
     "output_type": "stream",
     "text": [
      "1.26.4\n"
     ]
    }
   ],
   "source": [
    "import pandas as pd\n",
    "import numpy as np\n",
    "print(np.__version__)"
   ]
  },
  {
   "cell_type": "code",
   "execution_count": 2,
   "id": "f19b015d-5e1a-4514-a681-b4012bd7d0cf",
   "metadata": {},
   "outputs": [
    {
     "name": "stdout",
     "output_type": "stream",
     "text": [
      "    Record      Age  Income Student Credit_Rating Buys_Computer\n",
      "0        1     <=30    High      No          Fair            No\n",
      "1        2     <=30    High      No     Excellent            No\n",
      "2        3  31...40    High      No          Fair           Yes\n",
      "3        4      >40  Medium      No          Fair           Yes\n",
      "4        5      >40     Low     Yes          Fair           Yes\n",
      "5        6      >40     Low     Yes     Excellent            No\n",
      "6        7  31...40     Low     Yes     Excellent           Yes\n",
      "7        8     <=30  Medium      No          Fair            No\n",
      "8        9     <=30     Low     Yes          Fair           Yes\n",
      "9       10      >40  Medium     Yes          Fair           Yes\n",
      "10      11     <=30  Medium     Yes     Excellent           Yes\n",
      "11      12  31...40  Medium      No     Excellent           Yes\n",
      "12      13  31...10    High     Yes          Fair           Yes\n",
      "13      14      >40  Medium      No     Excellent            No\n"
     ]
    }
   ],
   "source": [
    "data = pd.read_csv(\"C:/Users/Guest-Student/Downloads/Lab-NB-18Sept2025/buys_computer.csv\")\n",
    "print(data)"
   ]
  },
  {
   "cell_type": "code",
   "execution_count": 6,
   "id": "ed6c4b0c-bb6c-447e-814c-0b12270b319b",
   "metadata": {},
   "outputs": [
    {
     "name": "stdout",
     "output_type": "stream",
     "text": [
      "14 5 9\n",
      "2 3 4 2 6 1 6 2\n"
     ]
    }
   ],
   "source": [
    "n_age_less_thirty_yes = len(data[(data['Age'] == '<=30') & (data['Buys_Computer'] == 'Yes')])\n",
    "n_age_no = len(data[(data['Age'] == '<=30') & (data['Buys_Computer'] == 'No')])\n",
    "n_income_yes = len(data[(data['Income'] == 'Medium')& (data['Buys_Computer'] == 'Yes')])\n",
    "n_income_no = len(data[(data['Income'] == 'Medium') & (data['Buys_Computer'] == 'No')])\n",
    "n_student_yes = len(data[(data['Student'] == 'Yes') & (data['Buys_Computer'] == 'Yes')])\n",
    "n_student_no = len(data[(data['Student'] == 'Yes') & (data['Buys_Computer'] == 'No')])\n",
    "n_credit_yes = len(data[(data['Credit_Rating'] == 'Fair') & (data['Buys_Computer'] == 'Yes')])\n",
    "n_credit_no = len(data[(data['Credit_Rating'] == 'Fair') & (data['Buys_Computer'] == 'No')])\n",
    "n_yes = len(data[(data['Buys_Computer'] == 'Yes')])\n",
    "n_no = len(data[(data['Buys_Computer'] == 'No')])\n",
    "total_com = len(data['Buys_Computer'])\n",
    "print(total_com,n_no,n_yes)\n",
    "print(n_age_less_thirty_yes, n_age_no,n_income_yes,n_income_no,n_student_yes,n_student_no,n_credit_yes,n_credit_no)"
   ]
  },
  {
   "cell_type": "code",
   "execution_count": 7,
   "id": "67fa70ee-e99d-4450-8627-60f56113408f",
   "metadata": {},
   "outputs": [],
   "source": [
    "p_yes = n_yes / total_com\n",
    "p_no = n_no / total_com\n",
    "\n",
    "p_age_yes = n_age_less_thirty_yes / n_yes\n",
    "p_age_no = n_age_no / n_no\n",
    "\n",
    "p_income_yes = n_income_yes / n_yes\n",
    "p_income_no = n_income_no / n_no\n",
    "\n",
    "p_student_yes = n_student_yes / n_yes\n",
    "p_student_no = n_student_no / n_no\n",
    "\n",
    "p_credit_yes = n_credit_yes / n_yes\n",
    "p_credit_no = n_credit_no / n_no\n"
   ]
  },
  {
   "cell_type": "code",
   "execution_count": 8,
   "id": "b28652f4-234e-4bc9-9c1d-f785864f724d",
   "metadata": {},
   "outputs": [
    {
     "name": "stdout",
     "output_type": "stream",
     "text": [
      "p_age_income_student_yes =  0.028218694885361547\n",
      "p_age_income_student_no =  0.006857142857142858\n",
      "p_age_income_student_yes =  0.0282\n",
      "p_age_income_student_no =  0.0069\n"
     ]
    }
   ],
   "source": [
    "p_age_income_student_yes = p_age_yes * p_income_yes * p_student_yes * p_credit_yes * p_yes\n",
    "\n",
    "p_age_income_student_no = p_age_no * p_income_no * p_student_no * p_credit_no * p_no\n",
    "\n",
    "\n",
    "print('p_age_income_student_yes = ', p_age_income_student_yes)\n",
    "print('p_age_income_student_no = ', p_age_income_student_no)\n",
    "\n",
    "print('p_age_income_student_yes = ', '%.4f'%p_age_income_student_yes)\n",
    "print('p_age_income_student_no = ', '%.4f'%p_age_income_student_no)"
   ]
  },
  {
   "cell_type": "code",
   "execution_count": null,
   "id": "014c0698-0162-468c-913a-e6ebdc79ebc4",
   "metadata": {},
   "outputs": [],
   "source": []
  }
 ],
 "metadata": {
  "kernelspec": {
   "display_name": "Python 3 (ipykernel)",
   "language": "python",
   "name": "python3"
  },
  "language_info": {
   "codemirror_mode": {
    "name": "ipython",
    "version": 3
   },
   "file_extension": ".py",
   "mimetype": "text/x-python",
   "name": "python",
   "nbconvert_exporter": "python",
   "pygments_lexer": "ipython3",
   "version": "3.12.7"
  }
 },
 "nbformat": 4,
 "nbformat_minor": 5
}
